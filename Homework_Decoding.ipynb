{
 "cells": [
  {
   "cell_type": "markdown",
   "id": "4dfe47c2",
   "metadata": {
    "id": "4dfe47c2"
   },
   "source": [
    "<a href=\"https://colab.research.google.com/github/mabuice/AMATH_Visual_Coding/blob/main/Homework_Decoding.ipynb\" target=\"_parent\"><img src=\"https://colab.research.google.com/assets/colab-badge.svg\" alt=\"Open In Colab\"/></a>"
   ]
  },
  {
   "cell_type": "markdown",
   "id": "73d25d5a",
   "metadata": {
    "id": "73d25d5a"
   },
   "source": [
    "<div style=\"background: #F0FAFF; border-radius: 3px; padding: 10px;\">\n",
    "<h3> This notebook will explore decoding using the Allen Brain Observatory data </h3>\n",
    "    \n",
    "In this notebook, we'll look at decoding using different models, different definitions of the design matrix, and different neural populations.\n"
   ]
  },
  {
   "cell_type": "code",
   "execution_count": 1,
   "id": "fZwHuV7_uqNp",
   "metadata": {
    "id": "fZwHuV7_uqNp"
   },
   "outputs": [],
   "source": [
    "# @title Run to initialize Allen Brain Observatory on Colab {display-mode: \"form\" }\n",
    "# run only once per runtime/session, and only if running in colab\n",
    "# the runtime will need to restart after\n",
    "%%capture\n",
    "!apt install s3fs\n",
    "!pip install allensdk\n",
    "!mkdir -p /data/allen-brain-observatory/\n",
    "!s3fs allen-brain-observatory /data/allen-brain-observatory/ -o public_bucket=1"
   ]
  },
  {
   "cell_type": "markdown",
   "id": "328b07a0",
   "metadata": {
    "id": "328b07a0"
   },
   "source": [
    "### Standard imports"
   ]
  },
  {
   "cell_type": "code",
   "execution_count": 2,
   "id": "ac50c84c",
   "metadata": {
    "id": "ac50c84c"
   },
   "outputs": [],
   "source": [
    "import numpy as np\n",
    "import pandas as pd\n",
    "import matplotlib.pyplot as plt\n",
    "%matplotlib inline\n",
    "\n",
    "import sklearn"
   ]
  },
  {
   "cell_type": "markdown",
   "id": "50eaa6e4",
   "metadata": {
    "id": "50eaa6e4"
   },
   "source": [
    "### Allen Brain Observatory set up"
   ]
  },
  {
   "cell_type": "code",
   "execution_count": 3,
   "id": "212135d6",
   "metadata": {
    "id": "212135d6"
   },
   "outputs": [],
   "source": [
    "from allensdk.core.brain_observatory_cache import BrainObservatoryCache\n",
    "\n",
    "manifest_file = '../data/allen-brain-observatory/visual-coding-2p/manifest.json'\n",
    "boc = BrainObservatoryCache(manifest_file=manifest_file)"
   ]
  },
  {
   "cell_type": "markdown",
   "id": "2ddbabd3",
   "metadata": {
    "id": "2ddbabd3"
   },
   "source": [
    "<div style=\"background: #DFF0D8; border-radius: 3px; padding: 10px;\">\n",
    "The command below returns a list of dictionaries containing information about the experiment sessions.  As we saw in the main notebook, you can use optional arguments to specify subsets of experiment sessions.  (Hint:  use the help function to see other ways of choosing sessions.)\n",
    "</div>"
   ]
  },
  {
   "cell_type": "code",
   "execution_count": 4,
   "id": "ca663637",
   "metadata": {
    "id": "ca663637"
   },
   "outputs": [],
   "source": [
    "exps = boc.get_ophys_experiments()"
   ]
  },
  {
   "cell_type": "code",
   "execution_count": 5,
   "id": "2SBh_OpkQgZP",
   "metadata": {
    "colab": {
     "base_uri": "https://localhost:8080/",
     "height": 762
    },
    "id": "2SBh_OpkQgZP",
    "outputId": "3c9889a3-687b-4023-da85-afe1725bd506"
   },
   "outputs": [
    {
     "data": {
      "application/vnd.google.colaboratory.intrinsic+json": {
       "summary": "{\n  \"name\": \"pd\",\n  \"rows\": 1368,\n  \"fields\": [\n    {\n      \"column\": \"id\",\n      \"properties\": {\n        \"dtype\": \"number\",\n        \"std\": 58448129,\n        \"min\": 497060401,\n        \"max\": 717913184,\n        \"num_unique_values\": 1368,\n        \"samples\": [\n          502666254,\n          652737678,\n          562122508\n        ],\n        \"semantic_type\": \"\",\n        \"description\": \"\"\n      }\n    },\n    {\n      \"column\": \"imaging_depth\",\n      \"properties\": {\n        \"dtype\": \"number\",\n        \"std\": 91,\n        \"min\": 175,\n        \"max\": 625,\n        \"num_unique_values\": 23,\n        \"samples\": [\n          205,\n          570,\n          175\n        ],\n        \"semantic_type\": \"\",\n        \"description\": \"\"\n      }\n    },\n    {\n      \"column\": \"targeted_structure\",\n      \"properties\": {\n        \"dtype\": \"category\",\n        \"num_unique_values\": 6,\n        \"samples\": [\n          \"VISl\",\n          \"VISam\",\n          \"VISrl\"\n        ],\n        \"semantic_type\": \"\",\n        \"description\": \"\"\n      }\n    },\n    {\n      \"column\": \"cre_line\",\n      \"properties\": {\n        \"dtype\": \"category\",\n        \"num_unique_values\": 13,\n        \"samples\": [\n          \"Nr5a1-Cre\",\n          \"Sst-IRES-Cre\",\n          \"Emx1-IRES-Cre\"\n        ],\n        \"semantic_type\": \"\",\n        \"description\": \"\"\n      }\n    },\n    {\n      \"column\": \"reporter_line\",\n      \"properties\": {\n        \"dtype\": \"category\",\n        \"num_unique_values\": 5,\n        \"samples\": [\n          \"Ai148(TIT2L-GC6f-ICL-tTA2)\",\n          \"Ai94(TITL-GCaMP6s)\",\n          \"Ai162(TIT2L-GC6s-ICL-tTA2)\"\n        ],\n        \"semantic_type\": \"\",\n        \"description\": \"\"\n      }\n    },\n    {\n      \"column\": \"acquisition_age_days\",\n      \"properties\": {\n        \"dtype\": \"number\",\n        \"std\": 16,\n        \"min\": 68,\n        \"max\": 168,\n        \"num_unique_values\": 90,\n        \"samples\": [\n          89,\n          113,\n          86\n        ],\n        \"semantic_type\": \"\",\n        \"description\": \"\"\n      }\n    },\n    {\n      \"column\": \"experiment_container_id\",\n      \"properties\": {\n        \"dtype\": \"number\",\n        \"std\": 57275966,\n        \"min\": 511498742,\n        \"max\": 716655272,\n        \"num_unique_values\": 456,\n        \"samples\": [\n          651773425,\n          560876149,\n          676503586\n        ],\n        \"semantic_type\": \"\",\n        \"description\": \"\"\n      }\n    },\n    {\n      \"column\": \"session_type\",\n      \"properties\": {\n        \"dtype\": \"category\",\n        \"num_unique_values\": 4,\n        \"samples\": [\n          \"three_session_A\",\n          \"three_session_C\",\n          \"three_session_C2\"\n        ],\n        \"semantic_type\": \"\",\n        \"description\": \"\"\n      }\n    },\n    {\n      \"column\": \"donor_name\",\n      \"properties\": {\n        \"dtype\": \"category\",\n        \"num_unique_values\": 256,\n        \"samples\": [\n          \"332395\",\n          \"369311\",\n          \"246775\"\n        ],\n        \"semantic_type\": \"\",\n        \"description\": \"\"\n      }\n    },\n    {\n      \"column\": \"specimen_name\",\n      \"properties\": {\n        \"dtype\": \"category\",\n        \"num_unique_values\": 256,\n        \"samples\": [\n          \"Sst-IRES-Cre;Ai148(CAM)-332395\",\n          \"Slc17a7-IRES2-Cre;Camk2a-tTA;Ai93-369311\",\n          \"Scnn1a-Tg3-Cre;Camk2a-tTA;Ai93-246775\"\n        ],\n        \"semantic_type\": \"\",\n        \"description\": \"\"\n      }\n    },\n    {\n      \"column\": \"fail_eye_tracking\",\n      \"properties\": {\n        \"dtype\": \"boolean\",\n        \"num_unique_values\": 2,\n        \"samples\": [\n          false,\n          true\n        ],\n        \"semantic_type\": \"\",\n        \"description\": \"\"\n      }\n    }\n  ]\n}",
       "type": "dataframe"
      },
      "text/html": [
       "\n",
       "  <div id=\"df-5570bae0-52ba-4a24-a274-d3777f5002a6\" class=\"colab-df-container\">\n",
       "    <div>\n",
       "<style scoped>\n",
       "    .dataframe tbody tr th:only-of-type {\n",
       "        vertical-align: middle;\n",
       "    }\n",
       "\n",
       "    .dataframe tbody tr th {\n",
       "        vertical-align: top;\n",
       "    }\n",
       "\n",
       "    .dataframe thead th {\n",
       "        text-align: right;\n",
       "    }\n",
       "</style>\n",
       "<table border=\"1\" class=\"dataframe\">\n",
       "  <thead>\n",
       "    <tr style=\"text-align: right;\">\n",
       "      <th></th>\n",
       "      <th>id</th>\n",
       "      <th>imaging_depth</th>\n",
       "      <th>targeted_structure</th>\n",
       "      <th>cre_line</th>\n",
       "      <th>reporter_line</th>\n",
       "      <th>acquisition_age_days</th>\n",
       "      <th>experiment_container_id</th>\n",
       "      <th>session_type</th>\n",
       "      <th>donor_name</th>\n",
       "      <th>specimen_name</th>\n",
       "      <th>fail_eye_tracking</th>\n",
       "    </tr>\n",
       "  </thead>\n",
       "  <tbody>\n",
       "    <tr>\n",
       "      <th>0</th>\n",
       "      <td>566752133</td>\n",
       "      <td>175</td>\n",
       "      <td>VISl</td>\n",
       "      <td>Emx1-IRES-Cre</td>\n",
       "      <td>Ai93(TITL-GCaMP6f)</td>\n",
       "      <td>116</td>\n",
       "      <td>564425775</td>\n",
       "      <td>three_session_C2</td>\n",
       "      <td>283147</td>\n",
       "      <td>Emx1-IRES-Cre;Camk2a-tTA;Ai93-283147</td>\n",
       "      <td>True</td>\n",
       "    </tr>\n",
       "    <tr>\n",
       "      <th>1</th>\n",
       "      <td>653123586</td>\n",
       "      <td>275</td>\n",
       "      <td>VISl</td>\n",
       "      <td>Rorb-IRES2-Cre</td>\n",
       "      <td>Ai93(TITL-GCaMP6f)</td>\n",
       "      <td>111</td>\n",
       "      <td>653123584</td>\n",
       "      <td>three_session_C2</td>\n",
       "      <td>352471</td>\n",
       "      <td>Rorb-IRES2-Cre;Camk2a-tTA;Ai93-352471</td>\n",
       "      <td>True</td>\n",
       "    </tr>\n",
       "    <tr>\n",
       "      <th>2</th>\n",
       "      <td>577225417</td>\n",
       "      <td>275</td>\n",
       "      <td>VISl</td>\n",
       "      <td>Vip-IRES-Cre</td>\n",
       "      <td>Ai148(TIT2L-GC6f-ICL-tTA2)</td>\n",
       "      <td>105</td>\n",
       "      <td>575772104</td>\n",
       "      <td>three_session_C2</td>\n",
       "      <td>296710</td>\n",
       "      <td>Vip-IRES-Cre;Ai148-296710</td>\n",
       "      <td>False</td>\n",
       "    </tr>\n",
       "    <tr>\n",
       "      <th>3</th>\n",
       "      <td>556353209</td>\n",
       "      <td>375</td>\n",
       "      <td>VISam</td>\n",
       "      <td>Rbp4-Cre_KL100</td>\n",
       "      <td>Ai93(TITL-GCaMP6f)</td>\n",
       "      <td>101</td>\n",
       "      <td>555327033</td>\n",
       "      <td>three_session_A</td>\n",
       "      <td>271750</td>\n",
       "      <td>Rbp4-Cre;Camk2a-tTA;Ai93-271750</td>\n",
       "      <td>True</td>\n",
       "    </tr>\n",
       "    <tr>\n",
       "      <th>4</th>\n",
       "      <td>510390912</td>\n",
       "      <td>275</td>\n",
       "      <td>VISal</td>\n",
       "      <td>Rorb-IRES2-Cre</td>\n",
       "      <td>Ai93(TITL-GCaMP6f)</td>\n",
       "      <td>80</td>\n",
       "      <td>511500480</td>\n",
       "      <td>three_session_A</td>\n",
       "      <td>232623</td>\n",
       "      <td>Rorb-IRES2-Cre;Camk2a-tTA;Ai93-232623</td>\n",
       "      <td>False</td>\n",
       "    </tr>\n",
       "    <tr>\n",
       "      <th>...</th>\n",
       "      <td>...</td>\n",
       "      <td>...</td>\n",
       "      <td>...</td>\n",
       "      <td>...</td>\n",
       "      <td>...</td>\n",
       "      <td>...</td>\n",
       "      <td>...</td>\n",
       "      <td>...</td>\n",
       "      <td>...</td>\n",
       "      <td>...</td>\n",
       "      <td>...</td>\n",
       "    </tr>\n",
       "    <tr>\n",
       "      <th>1363</th>\n",
       "      <td>577820172</td>\n",
       "      <td>275</td>\n",
       "      <td>VISam</td>\n",
       "      <td>Rorb-IRES2-Cre</td>\n",
       "      <td>Ai93(TITL-GCaMP6f)</td>\n",
       "      <td>110</td>\n",
       "      <td>576411244</td>\n",
       "      <td>three_session_B</td>\n",
       "      <td>295995</td>\n",
       "      <td>Rorb-IRES2-Cre;Camk2a-tTA;Ai93-295995</td>\n",
       "      <td>False</td>\n",
       "    </tr>\n",
       "    <tr>\n",
       "      <th>1364</th>\n",
       "      <td>648389302</td>\n",
       "      <td>275</td>\n",
       "      <td>VISp</td>\n",
       "      <td>Slc17a7-IRES2-Cre</td>\n",
       "      <td>Ai93(TITL-GCaMP6f)</td>\n",
       "      <td>108</td>\n",
       "      <td>647155120</td>\n",
       "      <td>three_session_B</td>\n",
       "      <td>347751</td>\n",
       "      <td>Slc17a7-IRES2-Cre;Camk2a-tTA;Ai93-347751</td>\n",
       "      <td>False</td>\n",
       "    </tr>\n",
       "    <tr>\n",
       "      <th>1365</th>\n",
       "      <td>510517609</td>\n",
       "      <td>375</td>\n",
       "      <td>VISpm</td>\n",
       "      <td>Rbp4-Cre_KL100</td>\n",
       "      <td>Ai93(TITL-GCaMP6f)</td>\n",
       "      <td>75</td>\n",
       "      <td>511511006</td>\n",
       "      <td>three_session_B</td>\n",
       "      <td>233442</td>\n",
       "      <td>Rbp4-Cre;Camk2a-tTA;Ai93-233442</td>\n",
       "      <td>False</td>\n",
       "    </tr>\n",
       "    <tr>\n",
       "      <th>1366</th>\n",
       "      <td>547560448</td>\n",
       "      <td>350</td>\n",
       "      <td>VISal</td>\n",
       "      <td>Nr5a1-Cre</td>\n",
       "      <td>Ai93(TITL-GCaMP6f)</td>\n",
       "      <td>107</td>\n",
       "      <td>546328009</td>\n",
       "      <td>three_session_C2</td>\n",
       "      <td>261969</td>\n",
       "      <td>Nr5a1-Cre;Camk2a-tTA;Ai93-261969</td>\n",
       "      <td>False</td>\n",
       "    </tr>\n",
       "    <tr>\n",
       "      <th>1367</th>\n",
       "      <td>627823695</td>\n",
       "      <td>550</td>\n",
       "      <td>VISp</td>\n",
       "      <td>Ntsr1-Cre_GN220</td>\n",
       "      <td>Ai148(TIT2L-GC6f-ICL-tTA2)</td>\n",
       "      <td>88</td>\n",
       "      <td>627823692</td>\n",
       "      <td>three_session_A</td>\n",
       "      <td>339814</td>\n",
       "      <td>Ntsr1-Cre_GN220;Ai148-339814</td>\n",
       "      <td>False</td>\n",
       "    </tr>\n",
       "  </tbody>\n",
       "</table>\n",
       "<p>1368 rows × 11 columns</p>\n",
       "</div>\n",
       "    <div class=\"colab-df-buttons\">\n",
       "\n",
       "  <div class=\"colab-df-container\">\n",
       "    <button class=\"colab-df-convert\" onclick=\"convertToInteractive('df-5570bae0-52ba-4a24-a274-d3777f5002a6')\"\n",
       "            title=\"Convert this dataframe to an interactive table.\"\n",
       "            style=\"display:none;\">\n",
       "\n",
       "  <svg xmlns=\"http://www.w3.org/2000/svg\" height=\"24px\" viewBox=\"0 -960 960 960\">\n",
       "    <path d=\"M120-120v-720h720v720H120Zm60-500h600v-160H180v160Zm220 220h160v-160H400v160Zm0 220h160v-160H400v160ZM180-400h160v-160H180v160Zm440 0h160v-160H620v160ZM180-180h160v-160H180v160Zm440 0h160v-160H620v160Z\"/>\n",
       "  </svg>\n",
       "    </button>\n",
       "\n",
       "  <style>\n",
       "    .colab-df-container {\n",
       "      display:flex;\n",
       "      gap: 12px;\n",
       "    }\n",
       "\n",
       "    .colab-df-convert {\n",
       "      background-color: #E8F0FE;\n",
       "      border: none;\n",
       "      border-radius: 50%;\n",
       "      cursor: pointer;\n",
       "      display: none;\n",
       "      fill: #1967D2;\n",
       "      height: 32px;\n",
       "      padding: 0 0 0 0;\n",
       "      width: 32px;\n",
       "    }\n",
       "\n",
       "    .colab-df-convert:hover {\n",
       "      background-color: #E2EBFA;\n",
       "      box-shadow: 0px 1px 2px rgba(60, 64, 67, 0.3), 0px 1px 3px 1px rgba(60, 64, 67, 0.15);\n",
       "      fill: #174EA6;\n",
       "    }\n",
       "\n",
       "    .colab-df-buttons div {\n",
       "      margin-bottom: 4px;\n",
       "    }\n",
       "\n",
       "    [theme=dark] .colab-df-convert {\n",
       "      background-color: #3B4455;\n",
       "      fill: #D2E3FC;\n",
       "    }\n",
       "\n",
       "    [theme=dark] .colab-df-convert:hover {\n",
       "      background-color: #434B5C;\n",
       "      box-shadow: 0px 1px 3px 1px rgba(0, 0, 0, 0.15);\n",
       "      filter: drop-shadow(0px 1px 2px rgba(0, 0, 0, 0.3));\n",
       "      fill: #FFFFFF;\n",
       "    }\n",
       "  </style>\n",
       "\n",
       "    <script>\n",
       "      const buttonEl =\n",
       "        document.querySelector('#df-5570bae0-52ba-4a24-a274-d3777f5002a6 button.colab-df-convert');\n",
       "      buttonEl.style.display =\n",
       "        google.colab.kernel.accessAllowed ? 'block' : 'none';\n",
       "\n",
       "      async function convertToInteractive(key) {\n",
       "        const element = document.querySelector('#df-5570bae0-52ba-4a24-a274-d3777f5002a6');\n",
       "        const dataTable =\n",
       "          await google.colab.kernel.invokeFunction('convertToInteractive',\n",
       "                                                    [key], {});\n",
       "        if (!dataTable) return;\n",
       "\n",
       "        const docLinkHtml = 'Like what you see? Visit the ' +\n",
       "          '<a target=\"_blank\" href=https://colab.research.google.com/notebooks/data_table.ipynb>data table notebook</a>'\n",
       "          + ' to learn more about interactive tables.';\n",
       "        element.innerHTML = '';\n",
       "        dataTable['output_type'] = 'display_data';\n",
       "        await google.colab.output.renderOutput(dataTable, element);\n",
       "        const docLink = document.createElement('div');\n",
       "        docLink.innerHTML = docLinkHtml;\n",
       "        element.appendChild(docLink);\n",
       "      }\n",
       "    </script>\n",
       "  </div>\n",
       "\n",
       "\n",
       "<div id=\"df-4ae12bca-ec42-4579-b05b-fe5c8aa24399\">\n",
       "  <button class=\"colab-df-quickchart\" onclick=\"quickchart('df-4ae12bca-ec42-4579-b05b-fe5c8aa24399')\"\n",
       "            title=\"Suggest charts\"\n",
       "            style=\"display:none;\">\n",
       "\n",
       "<svg xmlns=\"http://www.w3.org/2000/svg\" height=\"24px\"viewBox=\"0 0 24 24\"\n",
       "     width=\"24px\">\n",
       "    <g>\n",
       "        <path d=\"M19 3H5c-1.1 0-2 .9-2 2v14c0 1.1.9 2 2 2h14c1.1 0 2-.9 2-2V5c0-1.1-.9-2-2-2zM9 17H7v-7h2v7zm4 0h-2V7h2v10zm4 0h-2v-4h2v4z\"/>\n",
       "    </g>\n",
       "</svg>\n",
       "  </button>\n",
       "\n",
       "<style>\n",
       "  .colab-df-quickchart {\n",
       "      --bg-color: #E8F0FE;\n",
       "      --fill-color: #1967D2;\n",
       "      --hover-bg-color: #E2EBFA;\n",
       "      --hover-fill-color: #174EA6;\n",
       "      --disabled-fill-color: #AAA;\n",
       "      --disabled-bg-color: #DDD;\n",
       "  }\n",
       "\n",
       "  [theme=dark] .colab-df-quickchart {\n",
       "      --bg-color: #3B4455;\n",
       "      --fill-color: #D2E3FC;\n",
       "      --hover-bg-color: #434B5C;\n",
       "      --hover-fill-color: #FFFFFF;\n",
       "      --disabled-bg-color: #3B4455;\n",
       "      --disabled-fill-color: #666;\n",
       "  }\n",
       "\n",
       "  .colab-df-quickchart {\n",
       "    background-color: var(--bg-color);\n",
       "    border: none;\n",
       "    border-radius: 50%;\n",
       "    cursor: pointer;\n",
       "    display: none;\n",
       "    fill: var(--fill-color);\n",
       "    height: 32px;\n",
       "    padding: 0;\n",
       "    width: 32px;\n",
       "  }\n",
       "\n",
       "  .colab-df-quickchart:hover {\n",
       "    background-color: var(--hover-bg-color);\n",
       "    box-shadow: 0 1px 2px rgba(60, 64, 67, 0.3), 0 1px 3px 1px rgba(60, 64, 67, 0.15);\n",
       "    fill: var(--button-hover-fill-color);\n",
       "  }\n",
       "\n",
       "  .colab-df-quickchart-complete:disabled,\n",
       "  .colab-df-quickchart-complete:disabled:hover {\n",
       "    background-color: var(--disabled-bg-color);\n",
       "    fill: var(--disabled-fill-color);\n",
       "    box-shadow: none;\n",
       "  }\n",
       "\n",
       "  .colab-df-spinner {\n",
       "    border: 2px solid var(--fill-color);\n",
       "    border-color: transparent;\n",
       "    border-bottom-color: var(--fill-color);\n",
       "    animation:\n",
       "      spin 1s steps(1) infinite;\n",
       "  }\n",
       "\n",
       "  @keyframes spin {\n",
       "    0% {\n",
       "      border-color: transparent;\n",
       "      border-bottom-color: var(--fill-color);\n",
       "      border-left-color: var(--fill-color);\n",
       "    }\n",
       "    20% {\n",
       "      border-color: transparent;\n",
       "      border-left-color: var(--fill-color);\n",
       "      border-top-color: var(--fill-color);\n",
       "    }\n",
       "    30% {\n",
       "      border-color: transparent;\n",
       "      border-left-color: var(--fill-color);\n",
       "      border-top-color: var(--fill-color);\n",
       "      border-right-color: var(--fill-color);\n",
       "    }\n",
       "    40% {\n",
       "      border-color: transparent;\n",
       "      border-right-color: var(--fill-color);\n",
       "      border-top-color: var(--fill-color);\n",
       "    }\n",
       "    60% {\n",
       "      border-color: transparent;\n",
       "      border-right-color: var(--fill-color);\n",
       "    }\n",
       "    80% {\n",
       "      border-color: transparent;\n",
       "      border-right-color: var(--fill-color);\n",
       "      border-bottom-color: var(--fill-color);\n",
       "    }\n",
       "    90% {\n",
       "      border-color: transparent;\n",
       "      border-bottom-color: var(--fill-color);\n",
       "    }\n",
       "  }\n",
       "</style>\n",
       "\n",
       "  <script>\n",
       "    async function quickchart(key) {\n",
       "      const quickchartButtonEl =\n",
       "        document.querySelector('#' + key + ' button');\n",
       "      quickchartButtonEl.disabled = true;  // To prevent multiple clicks.\n",
       "      quickchartButtonEl.classList.add('colab-df-spinner');\n",
       "      try {\n",
       "        const charts = await google.colab.kernel.invokeFunction(\n",
       "            'suggestCharts', [key], {});\n",
       "      } catch (error) {\n",
       "        console.error('Error during call to suggestCharts:', error);\n",
       "      }\n",
       "      quickchartButtonEl.classList.remove('colab-df-spinner');\n",
       "      quickchartButtonEl.classList.add('colab-df-quickchart-complete');\n",
       "    }\n",
       "    (() => {\n",
       "      let quickchartButtonEl =\n",
       "        document.querySelector('#df-4ae12bca-ec42-4579-b05b-fe5c8aa24399 button');\n",
       "      quickchartButtonEl.style.display =\n",
       "        google.colab.kernel.accessAllowed ? 'block' : 'none';\n",
       "    })();\n",
       "  </script>\n",
       "</div>\n",
       "\n",
       "    </div>\n",
       "  </div>\n"
      ],
      "text/plain": [
       "             id  imaging_depth targeted_structure           cre_line  \\\n",
       "0     566752133            175               VISl      Emx1-IRES-Cre   \n",
       "1     653123586            275               VISl     Rorb-IRES2-Cre   \n",
       "2     577225417            275               VISl       Vip-IRES-Cre   \n",
       "3     556353209            375              VISam     Rbp4-Cre_KL100   \n",
       "4     510390912            275              VISal     Rorb-IRES2-Cre   \n",
       "...         ...            ...                ...                ...   \n",
       "1363  577820172            275              VISam     Rorb-IRES2-Cre   \n",
       "1364  648389302            275               VISp  Slc17a7-IRES2-Cre   \n",
       "1365  510517609            375              VISpm     Rbp4-Cre_KL100   \n",
       "1366  547560448            350              VISal          Nr5a1-Cre   \n",
       "1367  627823695            550               VISp    Ntsr1-Cre_GN220   \n",
       "\n",
       "                   reporter_line  acquisition_age_days  \\\n",
       "0             Ai93(TITL-GCaMP6f)                   116   \n",
       "1             Ai93(TITL-GCaMP6f)                   111   \n",
       "2     Ai148(TIT2L-GC6f-ICL-tTA2)                   105   \n",
       "3             Ai93(TITL-GCaMP6f)                   101   \n",
       "4             Ai93(TITL-GCaMP6f)                    80   \n",
       "...                          ...                   ...   \n",
       "1363          Ai93(TITL-GCaMP6f)                   110   \n",
       "1364          Ai93(TITL-GCaMP6f)                   108   \n",
       "1365          Ai93(TITL-GCaMP6f)                    75   \n",
       "1366          Ai93(TITL-GCaMP6f)                   107   \n",
       "1367  Ai148(TIT2L-GC6f-ICL-tTA2)                    88   \n",
       "\n",
       "      experiment_container_id      session_type donor_name  \\\n",
       "0                   564425775  three_session_C2     283147   \n",
       "1                   653123584  three_session_C2     352471   \n",
       "2                   575772104  three_session_C2     296710   \n",
       "3                   555327033   three_session_A     271750   \n",
       "4                   511500480   three_session_A     232623   \n",
       "...                       ...               ...        ...   \n",
       "1363                576411244   three_session_B     295995   \n",
       "1364                647155120   three_session_B     347751   \n",
       "1365                511511006   three_session_B     233442   \n",
       "1366                546328009  three_session_C2     261969   \n",
       "1367                627823692   three_session_A     339814   \n",
       "\n",
       "                                 specimen_name  fail_eye_tracking  \n",
       "0         Emx1-IRES-Cre;Camk2a-tTA;Ai93-283147               True  \n",
       "1        Rorb-IRES2-Cre;Camk2a-tTA;Ai93-352471               True  \n",
       "2                    Vip-IRES-Cre;Ai148-296710              False  \n",
       "3              Rbp4-Cre;Camk2a-tTA;Ai93-271750               True  \n",
       "4        Rorb-IRES2-Cre;Camk2a-tTA;Ai93-232623              False  \n",
       "...                                        ...                ...  \n",
       "1363     Rorb-IRES2-Cre;Camk2a-tTA;Ai93-295995              False  \n",
       "1364  Slc17a7-IRES2-Cre;Camk2a-tTA;Ai93-347751              False  \n",
       "1365           Rbp4-Cre;Camk2a-tTA;Ai93-233442              False  \n",
       "1366          Nr5a1-Cre;Camk2a-tTA;Ai93-261969              False  \n",
       "1367              Ntsr1-Cre_GN220;Ai148-339814              False  \n",
       "\n",
       "[1368 rows x 11 columns]"
      ]
     },
     "execution_count": 5,
     "metadata": {},
     "output_type": "execute_result"
    }
   ],
   "source": [
    "pd.DataFrame(exps)"
   ]
  },
  {
   "cell_type": "markdown",
   "id": "T-fPGw30MSLk",
   "metadata": {
    "id": "T-fPGw30MSLk"
   },
   "source": [
    "The following function will grab the data_set object for a given session_id.  The last two lines will extract the dF/F traces and the stimulus table for a given stimulus type.  \n",
    "\n",
    "Some other stimulus types are `natural_scenes` and `static_gratings`."
   ]
  },
  {
   "cell_type": "code",
   "execution_count": null,
   "id": "VabuvKlDMRTb",
   "metadata": {
    "id": "VabuvKlDMRTb"
   },
   "outputs": [],
   "source": [
    "session_id = ?\n",
    "data_set = boc.get_ophys_experiment_data(session_id)\n",
    "\n",
    "timestamps, dff = data_set.get_dff_traces()\n",
    "stim_table = data_set.get_stimulus_table('drifting_gratings')"
   ]
  },
  {
   "cell_type": "markdown",
   "id": "3cf7399e",
   "metadata": {
    "id": "3cf7399e"
   },
   "source": [
    "**Exercise 1:** Use a different decoder and repeat the same analysis.  Good decoders to try are Logistic Regression, Support Vector Machine, K-Means.\n",
    "\n",
    "Logistic Regression:\n",
    "https://scikit-learn.org/1.5/modules/generated/sklearn.linear_model.LogisticRegression.html\n",
    "\n",
    "Support Vector Machine:\n",
    "https://scikit-learn.org/1.6/modules/generated/sklearn.svm.SVC.html\n",
    "\n",
    "(Note:  look through the documentation to see what parameters govern these decoders.  How should you set them?  What effect do they have on the performance of your classifier?)\n"
   ]
  },
  {
   "cell_type": "code",
   "execution_count": null,
   "id": "086b0493",
   "metadata": {
    "id": "086b0493"
   },
   "outputs": [],
   "source": []
  },
  {
   "cell_type": "markdown",
   "id": "2342cac1",
   "metadata": {
    "id": "2342cac1"
   },
   "source": [
    "**Exercise 2:** Use a different stimulus type.  In addition to ‘drifting_gratings’, there are also ‘natural_scenes’ and ‘static_gratings’.  Find a session with these stimuli and try decoding the stimulus condition.\n",
    "\n",
    "(Hint:  use the function given above to get a list of experiments and convert it to a dataframe).*italicized text*\n",
    "</div>"
   ]
  },
  {
   "cell_type": "code",
   "execution_count": null,
   "id": "T2yauTHcWmwD",
   "metadata": {
    "id": "T2yauTHcWmwD"
   },
   "outputs": [],
   "source": []
  },
  {
   "cell_type": "markdown",
   "id": "664f1572",
   "metadata": {
    "id": "664f1572"
   },
   "source": [
    "**Exercise 3:** Compare the decoding performance between sessions from different areas.  Does decoding of drifting gratings work better in VISp compared to other areas?  \n",
    "</div>"
   ]
  },
  {
   "cell_type": "code",
   "execution_count": null,
   "id": "dvB-dd9RWp3T",
   "metadata": {
    "id": "dvB-dd9RWp3T"
   },
   "outputs": [],
   "source": []
  },
  {
   "cell_type": "markdown",
   "id": "SO7vsaHYyS8l",
   "metadata": {
    "id": "SO7vsaHYyS8l"
   },
   "source": [
    "**Exercise 4:**  Compare the decoding performance between sessions from different areas of similar depth.</div>"
   ]
  },
  {
   "cell_type": "code",
   "execution_count": null,
   "id": "dlOE2fMpXpxg",
   "metadata": {
    "id": "dlOE2fMpXpxg"
   },
   "outputs": [],
   "source": []
  },
  {
   "cell_type": "markdown",
   "id": "leBBxF_JyOpf",
   "metadata": {
    "id": "leBBxF_JyOpf"
   },
   "source": [
    "**Exercise 5:** Compare the decoding performance between sessions from different Cre lines of VISp.\n"
   ]
  },
  {
   "cell_type": "code",
   "execution_count": null,
   "id": "88fee9e4",
   "metadata": {
    "id": "88fee9e4"
   },
   "outputs": [],
   "source": []
  },
  {
   "cell_type": "markdown",
   "id": "pf2wJg8pya0F",
   "metadata": {
    "id": "pf2wJg8pya0F"
   },
   "source": [
    "**Exercise 6**:  Compute the design matrix using a different time window or different time offset relative to the stimulus.  Redo the decoding.  What happens as you move the window from before to after the stimulus presentation time?"
   ]
  },
  {
   "cell_type": "code",
   "execution_count": null,
   "id": "243k1WSvy3BK",
   "metadata": {
    "id": "243k1WSvy3BK"
   },
   "outputs": [],
   "source": []
  }
 ],
 "metadata": {
  "colab": {
   "provenance": []
  },
  "kernelspec": {
   "display_name": "Python 3 (ipykernel)",
   "language": "python",
   "name": "python3"
  },
  "language_info": {
   "codemirror_mode": {
    "name": "ipython",
    "version": 3
   },
   "file_extension": ".py",
   "mimetype": "text/x-python",
   "name": "python",
   "nbconvert_exporter": "python",
   "pygments_lexer": "ipython3",
   "version": "3.11.5"
  }
 },
 "nbformat": 4,
 "nbformat_minor": 5
}
